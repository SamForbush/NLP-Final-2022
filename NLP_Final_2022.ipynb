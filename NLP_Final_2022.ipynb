{
 "cells": [
  {
   "cell_type": "markdown",
   "metadata": {
    "id": "xPQ8ByZIbZX_"
   },
   "source": [
    " Articles and papers to look at:\n",
    "\n",
    "https://aclanthology.org/W17-3502/  \n",
    "https://aclanthology.org/D14-1074.pdf  \n",
    "https://aclanthology.org/P17-4008.pdf  \n",
    "http://computationalcreativity.net/iccc2012/wp-content/uploads/2012/05095-Colton.pdf  \n",
    "https://era.ed.ac.uk/bitstream/handle/1842/314/IP040022.pdf?sequence=1  \n",
    "https://aclanthology.org/2020.acl-main.223/  \n",
    "https://arxiv.org/pdf/1610.09889.pdf  \n",
    "https://www.researchgate.net/profile/Pablo-Gervas/publication/220831684_Poetry_generation_in_COLIBRI/links/61add74350e22929cd4e9ab6/Poetry-generation-in-COLIBRI.pdf \n",
    "http://nil.fdi.ucm.es/sites/default/files/GervasAISB2013CRC.pdf  "
   ]
  },
  {
   "cell_type": "markdown",
   "metadata": {
    "id": "ATjoe7YojjLl"
   },
   "source": [
    "Here is an example of an RNN using Keras, only training on one document."
   ]
  },
  {
   "cell_type": "code",
   "execution_count": 3,
   "metadata": {
    "colab": {
     "base_uri": "https://localhost:8080/"
    },
    "id": "jqYoxl-2HIcr",
    "outputId": "5175c7be-a78f-4eea-a13d-d409fb221ab8"
   },
   "outputs": [
    {
     "name": "stdout",
     "output_type": "stream",
     "text": [
      "Looking in indexes: https://pypi.org/simple, https://us-python.pkg.dev/colab-wheels/public/simple/\n",
      "Collecting pronouncing\n",
      "  Downloading pronouncing-0.2.0.tar.gz (17 kB)\n",
      "Collecting cmudict>=0.4.0\n",
      "  Downloading cmudict-1.0.2-py2.py3-none-any.whl (939 kB)\n",
      "\u001b[K     |████████████████████████████████| 939 kB 16.4 MB/s \n",
      "\u001b[?25hBuilding wheels for collected packages: pronouncing\n",
      "  Building wheel for pronouncing (setup.py) ... \u001b[?25l\u001b[?25hdone\n",
      "  Created wheel for pronouncing: filename=pronouncing-0.2.0-py2.py3-none-any.whl size=6252 sha256=a957bdf76ffbcccedc1ee16db4076794e58d7953f2805431bb4a76d85f1b6e67\n",
      "  Stored in directory: /root/.cache/pip/wheels/09/e8/c0/3606d42fdbf5f3871564eb6a353591a8f5deeed013fdb73921\n",
      "Successfully built pronouncing\n",
      "Installing collected packages: cmudict, pronouncing\n",
      "Successfully installed cmudict-1.0.2 pronouncing-0.2.0\n"
     ]
    }
   ],
   "source": [
    "#!pip install pronouncing\n",
    "import pronouncing\n",
    "import numpy as np\n",
    "import tensorflow as tf\n",
    "from tensorflow import keras\n",
    "from keras.layers import Dense, LSTM, Embedding\n",
    "import matplotlib.pyplot as plt \n",
    "import nltk\n",
    "from nltk.tokenize import word_tokenize\n",
    "import re"
   ]
  },
  {
   "cell_type": "code",
   "execution_count": 4,
   "metadata": {
    "colab": {
     "base_uri": "https://localhost:8080/"
    },
    "id": "UZMxgEeZH4q1",
    "outputId": "03766eba-bf05-41a9-b619-f36eb3960b4a"
   },
   "outputs": [
    {
     "name": "stdout",
     "output_type": "stream",
     "text": [
      "Colab: mounting Google drive on  /content/gdrive\n",
      "Mounted at /content/gdrive\n",
      "\n",
      "Colab: making sure  /content/gdrive/My Drive/Stats  exists.\n",
      "\n",
      "Colab: Changing directory to  /content/gdrive/My Drive/Stats\n",
      "/content/gdrive/My Drive/Stats\n"
     ]
    }
   ],
   "source": [
    "import pandas as pd\n",
    "\n",
    "from google.colab import drive\n",
    "\n",
    "mount='/content/gdrive'\n",
    "print(\"Colab: mounting Google drive on \", mount)\n",
    "\n",
    "drive.mount(mount)\n",
    "\n",
    "import os\n",
    "drive_root = mount + \"/My Drive/Stats\"\n",
    "  \n",
    "create_drive_root = True\n",
    "if create_drive_root:\n",
    "  print(\"\\nColab: making sure \", drive_root, \" exists.\")\n",
    "  os.makedirs(drive_root, exist_ok=True)\n",
    "  \n",
    "  # Change to the directory\n",
    "print(\"\\nColab: Changing directory to \", drive_root)\n",
    "%cd $drive_root"
   ]
  },
  {
   "cell_type": "code",
   "execution_count": 8,
   "metadata": {
    "id": "Sb7fEpO5H4xX"
   },
   "outputs": [],
   "source": [
    "f = open(\"spring2021.txt\", \"r\")\n",
    "text = f.read()"
   ]
  },
  {
   "cell_type": "code",
   "execution_count": 27,
   "metadata": {
    "colab": {
     "base_uri": "https://localhost:8080/"
    },
    "id": "easHiC5aJZDr",
    "outputId": "8c112fb2-532d-4f14-c519-cf362ef6a34c"
   },
   "outputs": [
    {
     "name": "stdout",
     "output_type": "stream",
     "text": [
      "['\\ufeffBuddha', 'StatueOnce', 'there', 'was', 'a']\n"
     ]
    },
    {
     "name": "stderr",
     "output_type": "stream",
     "text": [
      "[nltk_data] Downloading package punkt to /root/nltk_data...\n",
      "[nltk_data]   Package punkt is already up-to-date!\n"
     ]
    }
   ],
   "source": [
    "nltk.download('punkt')\n",
    "text = re.sub(\"\\[.*\\]\", \"\", text)\n",
    "text = re.sub(\"\\s\\s\\s\\s\\s*\", \"\", text)\n",
    "text_tokens = word_tokenize(text)\n",
    "print(text_tokens[:5])"
   ]
  },
  {
   "cell_type": "code",
   "execution_count": 28,
   "metadata": {
    "colab": {
     "base_uri": "https://localhost:8080/"
    },
    "id": "VdtYss3pNZ8e",
    "outputId": "f115514c-dfe1-44a3-f2a3-8ce929b23e54"
   },
   "outputs": [
    {
     "name": "stdout",
     "output_type": "stream",
     "text": [
      "on\n",
      "['abidjan', 'abron', 'alcon', 'almazan', 'alon', 'amman', 'antoine', 'aton', 'azerbaijan', 'azerbaijan', 'balaban', 'baran', 'bataan', 'baton', 'bhutan', 'bon', 'bonn', 'bonne', 'bronn', 'buisson', 'buthan', \"c'mon\", 'caan', 'cadogan', 'caen', 'ceylon', 'ceylon', 'chandon', 'chiffon', 'chon', 'christiane', 'christianne', 'chuan', 'come-on', 'con', 'conn', 'conn.', 'cron', 'daane', 'dahn', 'dainippon', 'defcon', 'dejohn', 'denouement', 'dhaharan', 'dhahran', 'dohn', 'don', 'donn', 'dwan', 'eldon', 'elston', 'erbakan', 'evonne', 'fernand', 'forgone', 'frohn', 'gabon', 'gaitan', 'galvan', 'gibran', 'gohn', 'goings-on', 'golan', 'grandmaison', 'guei-yuan', 'guinan', 'haan', 'hahn', 'han', 'hassan', 'hohn', 'hon', 'honn', 'hron', 'hron', 'huan', 'hwan', 'ilan', 'iran', 'irelan', 'jaan', 'javan', 'johan', 'john', 'jon', 'jonn', 'juan', 'juan', 'juran', 'jwan', 'kahan', 'kahn', 'kazakhstan', 'khan', 'kohn', 'kon', 'koran', 'kron', 'kuan', 'kwan', 'kwon', 'lacan', 'lat-lon', 'lian', 'livan', 'lohn', 'lon', 'lujan', 'maidan', 'mak-kwan', 'maran', 'mcconn', 'milan', 'milan', 'mohn', 'moldovan', 'mon', 'monn', 'moseley-braun', 'naan', 'napolitan', 'nilan', 'nippon', 'nithuekan', 'non', 'ocon', 'odds-on', 'oman', 'one-on-one', 'oran', 'orran', 'pecan', 'perignon', 'pon', 'pousson', 'pran', 'put-on', 'quon', 'rapprochement', 'respawn', 'rohn', 'ron', 'ronne', 'run-on', 'saigon', 'salon', 'san-juan', 'sanjuan', 'santistevan', 'schon', 'shon', 'sian', 'sichuan', 'sohn', 'sonn', 'sonne', 'sorbonne', 'spahn', 'spawn', 'spohn', 'srinivasan', 'srinivasan', 'st-john', 'stephane', 'stjohn', 'swan', 'swann', 'taiwan', 'teheran', 'tehran', 'thereupon', 'thon', 'tian', 'tonn', 'toran', 'tron', 'upon', 'villagran', 'vivyan', 'wan', 'wann', 'whereupon', 'whereupon', 'won', 'xan', 'xian', 'xuan', 'yaohan', 'yirng-an', 'yohn', 'yon', 'yuan', 'yvonne', 'zhan']\n"
     ]
    }
   ],
   "source": [
    "print(text_tokens[99])\n",
    "print(pronouncing.rhymes(text_tokens[99]))"
   ]
  },
  {
   "cell_type": "code",
   "execution_count": 29,
   "metadata": {
    "id": "oXw8wLf2N8h5"
   },
   "outputs": [],
   "source": [
    "vocabulary = np.array(sorted(set(text)))\n",
    "tokenizer = {char:i for i,char in enumerate(vocabulary)}"
   ]
  },
  {
   "cell_type": "code",
   "execution_count": 30,
   "metadata": {
    "colab": {
     "base_uri": "https://localhost:8080/"
    },
    "id": "y3ZbgrhqOqv9",
    "outputId": "50501e41-8f57-4113-e75c-e96d30c7848c"
   },
   "outputs": [
    {
     "name": "stdout",
     "output_type": "stream",
     "text": [
      "\n",
      "Sample Text \n",
      "\n",
      "----------------------------------------------------------------------\n",
      "﻿Buddha StatueOnce there was a person who said to me in a mocking yet not unserious tone: \"There is \n",
      "----------------------------------------------------------------------\n",
      "\n",
      "\n",
      "Corresponding Integer Vector \n",
      "\n",
      "----------------------------------------------------------------------\n",
      "[97 25 71 54 54 58 51  1 42 70 51 70 71 55 38 64 53 55  1 70 58 55 68 55\n",
      "  1 73 51 69  1 51  1 66 55 68 69 65 64  1 73 58 65  1 69 51 59 54  1 70\n",
      " 65  1 63 55  1 59 64  1 51  1 63 65 53 61 59 64 57  1 75 55 70  1 64 65\n",
      " 70  1 71 64 69 55 68 59 65 71 69  1 70 65 64 55 21  1  3 43 58 55 68 55\n",
      "  1 59 69  1]\n",
      "----------------------------------------------------------------------\n"
     ]
    }
   ],
   "source": [
    "vector = np.array([tokenizer[char] for char in text])\n",
    "print('\\nSample Text \\n')\n",
    "print('-'*70)\n",
    "print(text[:100])\n",
    "print('-'*70)\n",
    "print('\\n\\nCorresponding Integer Vector \\n')\n",
    "print('-'*70)\n",
    "print(vector[:100])\n",
    "print('-'*70)"
   ]
  },
  {
   "cell_type": "code",
   "execution_count": 31,
   "metadata": {
    "id": "TOVeD74CPHRS"
   },
   "outputs": [],
   "source": [
    "vector = tf.data.Dataset.from_tensor_slices(vector)\n",
    "sequences = vector.batch(100, drop_remainder=True)\n",
    "\n",
    "def prepare_dataset(seq):\n",
    "     input_vector = seq[:-1]\n",
    "     target_vector = seq[1:]\n",
    "     return input_vector, target_vector\n",
    "dataset = sequences.map(prepare_dataset)"
   ]
  },
  {
   "cell_type": "code",
   "execution_count": 32,
   "metadata": {
    "colab": {
     "base_uri": "https://localhost:8080/"
    },
    "id": "hicOXm9KPftu",
    "outputId": "374976d8-4aa2-436e-9547-00a489c75d6b"
   },
   "outputs": [
    {
     "name": "stdout",
     "output_type": "stream",
     "text": [
      "(64, 99)\n",
      "(64, 99)\n"
     ]
    }
   ],
   "source": [
    "AUTOTUNE = tf.data.AUTOTUNE\n",
    " # buffer size 10000\n",
    " # batch size 64\n",
    "data = dataset.batch(64, drop_remainder=True).repeat()\n",
    "data = data.prefetch(AUTOTUNE)\n",
    " # steps per epoch is number of batches available\n",
    "STEPS_PER_EPOCH = len(sequences)//64\n",
    "for inp, tar in data.take(1):\n",
    "    print(inp.numpy().shape)\n",
    "    print(tar.numpy().shape)"
   ]
  },
  {
   "cell_type": "code",
   "execution_count": 33,
   "metadata": {
    "colab": {
     "base_uri": "https://localhost:8080/"
    },
    "id": "yH4EHi7_Po7P",
    "outputId": "e49636ca-85c2-4713-870f-0bc1d8065a54"
   },
   "outputs": [
    {
     "name": "stdout",
     "output_type": "stream",
     "text": [
      "Model: \"sequential_1\"\n",
      "_________________________________________________________________\n",
      " Layer (type)                Output Shape              Param #   \n",
      "=================================================================\n",
      " embedding_1 (Embedding)     (64, None, 64)            6272      \n",
      "                                                                 \n",
      " lstm_2 (LSTM)               (64, None, 512)           1181696   \n",
      "                                                                 \n",
      " lstm_3 (LSTM)               (64, None, 512)           2099200   \n",
      "                                                                 \n",
      " dense_1 (Dense)             (64, None, 98)            50274     \n",
      "                                                                 \n",
      "=================================================================\n",
      "Total params: 3,337,442\n",
      "Trainable params: 3,337,442\n",
      "Non-trainable params: 0\n",
      "_________________________________________________________________\n"
     ]
    }
   ],
   "source": [
    "model = keras.Sequential([\n",
    "     # Embed len(vocabulary) into 64 dimensions\n",
    "     Embedding(len(vocabulary), 64, batch_input_shape=[64,None]),\n",
    "     # LSTM RNN layers\n",
    "     LSTM(512, return_sequences=True, stateful=True),\n",
    "     LSTM(512, return_sequences=True, stateful=True),\n",
    "     # Classification head\n",
    "     Dense(len(vocabulary))\n",
    " ])\n",
    "model.summary()"
   ]
  },
  {
   "cell_type": "code",
   "execution_count": 34,
   "metadata": {
    "colab": {
     "base_uri": "https://localhost:8080/"
    },
    "id": "A9yIheMNP1bp",
    "outputId": "60a81973-98dd-443e-93cc-7d5be0e11c86"
   },
   "outputs": [
    {
     "name": "stdout",
     "output_type": "stream",
     "text": [
      "(64, 99)\n",
      "(64, 99, 98)\n"
     ]
    }
   ],
   "source": [
    "for example_inp, example_tar in data.take(1):\n",
    "     example_pred = model(example_inp)\n",
    "     print(example_tar.numpy().shape)\n",
    "     print(example_pred.shape)"
   ]
  },
  {
   "cell_type": "code",
   "execution_count": 35,
   "metadata": {
    "colab": {
     "base_uri": "https://localhost:8080/"
    },
    "id": "eQKUlW-GTzmD",
    "outputId": "7979bbdc-5ec5-498f-8ae6-d21ac67118c0"
   },
   "outputs": [
    {
     "name": "stdout",
     "output_type": "stream",
     "text": [
      "Num GPUs Available:  1\n"
     ]
    }
   ],
   "source": [
    "print(\"Num GPUs Available: \", len(tf.config.list_physical_devices('GPU')))"
   ]
  },
  {
   "cell_type": "code",
   "execution_count": 42,
   "metadata": {
    "colab": {
     "base_uri": "https://localhost:8080/"
    },
    "id": "DLiG3ShSQFtx",
    "outputId": "77b4f118-0ac9-4a13-9f1e-1b64a6401b0f"
   },
   "outputs": [
    {
     "name": "stdout",
     "output_type": "stream",
     "text": [
      "Epoch 1/100\n",
      "13/13 [==============================] - 3s 60ms/step - loss: 0.0660\n",
      "Epoch 2/100\n",
      "13/13 [==============================] - 1s 53ms/step - loss: 0.0104\n",
      "Epoch 3/100\n",
      "13/13 [==============================] - 1s 51ms/step - loss: 0.0063\n",
      "Epoch 4/100\n",
      "13/13 [==============================] - 1s 51ms/step - loss: 0.0040\n",
      "Epoch 5/100\n",
      "13/13 [==============================] - 1s 51ms/step - loss: 0.0027\n",
      "Epoch 6/100\n",
      "13/13 [==============================] - 1s 52ms/step - loss: 0.0018\n",
      "Epoch 7/100\n",
      "13/13 [==============================] - 1s 53ms/step - loss: 0.0014\n",
      "Epoch 8/100\n",
      "13/13 [==============================] - 1s 53ms/step - loss: 0.0012\n",
      "Epoch 9/100\n",
      "13/13 [==============================] - 1s 53ms/step - loss: 0.0012\n",
      "Epoch 10/100\n",
      "13/13 [==============================] - 1s 51ms/step - loss: 0.0011\n",
      "Epoch 11/100\n",
      "13/13 [==============================] - 1s 51ms/step - loss: 0.0012\n",
      "Epoch 12/100\n",
      "13/13 [==============================] - 1s 51ms/step - loss: 0.0013\n",
      "Epoch 13/100\n",
      "13/13 [==============================] - 1s 53ms/step - loss: 0.0010\n",
      "Epoch 14/100\n",
      "13/13 [==============================] - 1s 51ms/step - loss: 8.0640e-04\n",
      "Epoch 15/100\n",
      "13/13 [==============================] - 1s 55ms/step - loss: 7.0112e-04\n",
      "Epoch 16/100\n",
      "13/13 [==============================] - 1s 55ms/step - loss: 6.5901e-04\n",
      "Epoch 17/100\n",
      "13/13 [==============================] - 1s 53ms/step - loss: 7.3671e-04\n",
      "Epoch 18/100\n",
      "13/13 [==============================] - 1s 52ms/step - loss: 9.6479e-04\n",
      "Epoch 19/100\n",
      "13/13 [==============================] - 1s 52ms/step - loss: 9.9703e-04\n",
      "Epoch 20/100\n",
      "13/13 [==============================] - 1s 54ms/step - loss: 7.4921e-04\n",
      "Epoch 21/100\n",
      "13/13 [==============================] - 1s 52ms/step - loss: 6.6057e-04\n",
      "Epoch 22/100\n",
      "13/13 [==============================] - 1s 53ms/step - loss: 5.7422e-04\n",
      "Epoch 23/100\n",
      "13/13 [==============================] - 1s 53ms/step - loss: 5.1523e-04\n",
      "Epoch 24/100\n",
      "13/13 [==============================] - 1s 53ms/step - loss: 5.3933e-04\n",
      "Epoch 25/100\n",
      "13/13 [==============================] - 1s 50ms/step - loss: 6.0366e-04\n",
      "Epoch 26/100\n",
      "13/13 [==============================] - 1s 53ms/step - loss: 9.5142e-04\n",
      "Epoch 27/100\n",
      "13/13 [==============================] - 1s 54ms/step - loss: 0.0012\n",
      "Epoch 28/100\n",
      "13/13 [==============================] - 1s 54ms/step - loss: 0.0011\n",
      "Epoch 29/100\n",
      "13/13 [==============================] - 1s 54ms/step - loss: 9.4881e-04\n",
      "Epoch 30/100\n",
      "13/13 [==============================] - 1s 53ms/step - loss: 0.0011\n",
      "Epoch 31/100\n",
      "13/13 [==============================] - 1s 55ms/step - loss: 0.0010\n",
      "Epoch 32/100\n",
      "13/13 [==============================] - 1s 53ms/step - loss: 0.0026\n",
      "Epoch 33/100\n",
      "13/13 [==============================] - 1s 53ms/step - loss: 0.0119\n",
      "Epoch 34/100\n",
      "13/13 [==============================] - 1s 54ms/step - loss: 0.0772\n",
      "Epoch 35/100\n",
      "13/13 [==============================] - 1s 56ms/step - loss: 0.1904\n",
      "Epoch 36/100\n",
      "13/13 [==============================] - 1s 55ms/step - loss: 0.1696\n",
      "Epoch 37/100\n",
      "13/13 [==============================] - 1s 54ms/step - loss: 0.1086\n",
      "Epoch 38/100\n",
      "13/13 [==============================] - 1s 56ms/step - loss: 0.0574\n",
      "Epoch 39/100\n",
      "13/13 [==============================] - 1s 55ms/step - loss: 0.0287\n",
      "Epoch 40/100\n",
      "13/13 [==============================] - 1s 55ms/step - loss: 0.0130\n",
      "Epoch 41/100\n",
      "13/13 [==============================] - 1s 54ms/step - loss: 0.0066\n",
      "Epoch 42/100\n",
      "13/13 [==============================] - 1s 55ms/step - loss: 0.0035\n",
      "Epoch 43/100\n",
      "13/13 [==============================] - 1s 54ms/step - loss: 0.0023\n",
      "Epoch 44/100\n",
      "13/13 [==============================] - 1s 54ms/step - loss: 0.0019\n",
      "Epoch 45/100\n",
      "13/13 [==============================] - 1s 54ms/step - loss: 0.0016\n",
      "Epoch 46/100\n",
      "13/13 [==============================] - 1s 56ms/step - loss: 0.0015\n",
      "Epoch 47/100\n",
      "13/13 [==============================] - 1s 55ms/step - loss: 0.0014\n",
      "Epoch 48/100\n",
      "13/13 [==============================] - 1s 54ms/step - loss: 0.0014\n",
      "Epoch 49/100\n",
      "13/13 [==============================] - 1s 54ms/step - loss: 0.0013\n",
      "Epoch 50/100\n",
      "13/13 [==============================] - 1s 55ms/step - loss: 0.0013\n",
      "Epoch 51/100\n",
      "13/13 [==============================] - 1s 55ms/step - loss: 0.0012\n",
      "Epoch 52/100\n",
      "13/13 [==============================] - 1s 55ms/step - loss: 0.0011\n",
      "Epoch 53/100\n",
      "13/13 [==============================] - 1s 55ms/step - loss: 0.0010\n",
      "Epoch 54/100\n",
      "13/13 [==============================] - 1s 54ms/step - loss: 9.8087e-04\n",
      "Epoch 55/100\n",
      "13/13 [==============================] - 1s 54ms/step - loss: 9.2728e-04\n",
      "Epoch 56/100\n",
      "13/13 [==============================] - 1s 55ms/step - loss: 8.8736e-04\n",
      "Epoch 57/100\n",
      "13/13 [==============================] - 1s 55ms/step - loss: 8.5341e-04\n",
      "Epoch 58/100\n",
      "13/13 [==============================] - 1s 55ms/step - loss: 8.2248e-04\n",
      "Epoch 59/100\n",
      "13/13 [==============================] - 1s 55ms/step - loss: 7.9426e-04\n",
      "Epoch 60/100\n",
      "13/13 [==============================] - 1s 54ms/step - loss: 7.6819e-04\n",
      "Epoch 61/100\n",
      "13/13 [==============================] - 1s 55ms/step - loss: 7.4396e-04\n",
      "Epoch 62/100\n",
      "13/13 [==============================] - 1s 55ms/step - loss: 7.2138e-04\n",
      "Epoch 63/100\n",
      "13/13 [==============================] - 1s 55ms/step - loss: 7.0026e-04\n",
      "Epoch 64/100\n",
      "13/13 [==============================] - 1s 54ms/step - loss: 6.8043e-04\n",
      "Epoch 65/100\n",
      "13/13 [==============================] - 1s 53ms/step - loss: 6.6176e-04\n",
      "Epoch 66/100\n",
      "13/13 [==============================] - 1s 53ms/step - loss: 6.4414e-04\n",
      "Epoch 67/100\n",
      "13/13 [==============================] - 1s 55ms/step - loss: 6.2749e-04\n",
      "Epoch 68/100\n",
      "13/13 [==============================] - 1s 53ms/step - loss: 6.1163e-04\n",
      "Epoch 69/100\n",
      "13/13 [==============================] - 1s 55ms/step - loss: 5.9656e-04\n",
      "Epoch 70/100\n",
      "13/13 [==============================] - 1s 55ms/step - loss: 5.8231e-04\n",
      "Epoch 71/100\n",
      "13/13 [==============================] - 1s 56ms/step - loss: 5.6878e-04\n",
      "Epoch 72/100\n",
      "13/13 [==============================] - 1s 54ms/step - loss: 5.5574e-04\n",
      "Epoch 73/100\n",
      "13/13 [==============================] - 1s 55ms/step - loss: 5.4337e-04\n",
      "Epoch 74/100\n",
      "13/13 [==============================] - 1s 53ms/step - loss: 5.3157e-04\n",
      "Epoch 75/100\n",
      "13/13 [==============================] - 1s 52ms/step - loss: 5.2019e-04\n",
      "Epoch 76/100\n",
      "13/13 [==============================] - 1s 53ms/step - loss: 5.0936e-04\n",
      "Epoch 77/100\n",
      "13/13 [==============================] - 1s 54ms/step - loss: 4.9886e-04\n",
      "Epoch 78/100\n",
      "13/13 [==============================] - 1s 54ms/step - loss: 4.8883e-04\n",
      "Epoch 79/100\n",
      "13/13 [==============================] - 1s 53ms/step - loss: 4.7918e-04\n",
      "Epoch 80/100\n",
      "13/13 [==============================] - 1s 53ms/step - loss: 4.6989e-04\n",
      "Epoch 81/100\n",
      "13/13 [==============================] - 1s 53ms/step - loss: 4.6095e-04\n",
      "Epoch 82/100\n",
      "13/13 [==============================] - 1s 55ms/step - loss: 4.5230e-04\n",
      "Epoch 83/100\n",
      "13/13 [==============================] - 1s 59ms/step - loss: 4.4395e-04\n",
      "Epoch 84/100\n",
      "13/13 [==============================] - 1s 58ms/step - loss: 4.3590e-04\n",
      "Epoch 85/100\n",
      "13/13 [==============================] - 1s 54ms/step - loss: 4.2812e-04\n",
      "Epoch 86/100\n",
      "13/13 [==============================] - 1s 61ms/step - loss: 4.2059e-04\n",
      "Epoch 87/100\n",
      "13/13 [==============================] - 1s 69ms/step - loss: 4.1329e-04\n",
      "Epoch 88/100\n",
      "13/13 [==============================] - 1s 55ms/step - loss: 4.0624e-04\n",
      "Epoch 89/100\n",
      "13/13 [==============================] - 1s 56ms/step - loss: 3.9942e-04\n",
      "Epoch 90/100\n",
      "13/13 [==============================] - 1s 55ms/step - loss: 3.9281e-04\n",
      "Epoch 91/100\n",
      "13/13 [==============================] - 1s 53ms/step - loss: 3.8636e-04\n",
      "Epoch 92/100\n",
      "13/13 [==============================] - 1s 56ms/step - loss: 3.8012e-04\n",
      "Epoch 93/100\n",
      "13/13 [==============================] - 1s 55ms/step - loss: 3.7407e-04\n",
      "Epoch 94/100\n",
      "13/13 [==============================] - 1s 56ms/step - loss: 3.6819e-04\n",
      "Epoch 95/100\n",
      "13/13 [==============================] - 1s 62ms/step - loss: 3.6247e-04\n",
      "Epoch 96/100\n",
      "13/13 [==============================] - 1s 62ms/step - loss: 3.5690e-04\n",
      "Epoch 97/100\n",
      "13/13 [==============================] - 1s 55ms/step - loss: 3.5149e-04\n",
      "Epoch 98/100\n",
      "13/13 [==============================] - 1s 53ms/step - loss: 3.4622e-04\n",
      "Epoch 99/100\n",
      "13/13 [==============================] - 1s 53ms/step - loss: 3.4109e-04\n",
      "Epoch 100/100\n",
      "13/13 [==============================] - 1s 52ms/step - loss: 3.3609e-04\n"
     ]
    }
   ],
   "source": [
    "#gpu necessary for this many epochs\n",
    "model.compile(optimizer='adam', \n",
    "      loss=keras.losses.SparseCategoricalCrossentropy(from_logits=True))\n",
    "\n",
    "history = model.fit(data, \n",
    "                     epochs=100, \n",
    "                     steps_per_epoch=STEPS_PER_EPOCH)"
   ]
  },
  {
   "cell_type": "code",
   "execution_count": 43,
   "metadata": {
    "colab": {
     "base_uri": "https://localhost:8080/"
    },
    "id": "7MqjBem_SQLa",
    "outputId": "d7917e1f-9656-4792-ce25-868f42274c33"
   },
   "outputs": [
    {
     "name": "stdout",
     "output_type": "stream",
     "text": [
      "Chickadees reading away the little girl. The is airechality be our handso mow me endering a correr bart. I saud yer sich.\n",
      "She conces from the same soil as my mother, a Portuguese term, one that holds many definitions. What eta of the ancohol and the noise, she can’t stop thinking of that sparse room, of mold hald but As the Popticiesly lieet the uarth of the street. Where half the older people are still illiterate and then’there blost misick of the same greef. The build was gostal wifh where her carainet marrished before the congertion. This is because, in walking such a path, to peer ahead of oneself is to faccied the other against the smot is the die,\n",
      "Is tof the hay they sped down the street. Where half the older people are still illiterate and then’there becomes, but the forest asking flow rowher that we are had and so againg\n",
      "to the street lamps turned on. As I would sink deeper into the fantasy, my mother’s dreams. She beaves all her all\n",
      "this world jo there in towards to prace their kees and \n"
     ]
    }
   ],
   "source": [
    "sample = 'Chickadees '\n",
    " # vectorize the string\n",
    "sample_vector = [tokenizer[s] for s in sample]\n",
    "predicted = sample_vector\n",
    " # convert into tensor of required dimensions\n",
    "sample_tensor = tf.expand_dims(sample_vector, 0) \n",
    " # broadcast to first dimension to 64 \n",
    "sample_tensor = tf.repeat(sample_tensor, 64, axis=0)\n",
    "\n",
    " # predict next 1000 characters\n",
    " # temperature is a sensitive variable to adjust prediction\n",
    "temperature = 0.6\n",
    "\n",
    "for i in range(1000):\n",
    "     pred = model(sample_tensor)\n",
    "     # reduce unnecessary dimensions\n",
    "     pred = pred[0].numpy()/temperature\n",
    "     pred = tf.random.categorical(pred, num_samples=1)[-1,0].numpy()\n",
    "     predicted.append(pred)\n",
    "     sample_tensor = predicted[-99:]\n",
    "     sample_tensor = tf.expand_dims([pred],0)\n",
    "     # broadcast to first dimension to 64 \n",
    "     sample_tensor = tf.repeat(sample_tensor, 64, axis=0)\n",
    "\n",
    " # convert the integers back to characters\n",
    "pred_char = [vocabulary[i] for i in predicted]\n",
    "generated = ''.join(pred_char) \n",
    "print(generated)"
   ]
  }
 ],
 "metadata": {
  "accelerator": "GPU",
  "colab": {
   "provenance": []
  },
  "gpuClass": "standard",
  "kernelspec": {
   "display_name": "Python 3 (ipykernel)",
   "language": "python",
   "name": "python3"
  },
  "language_info": {
   "codemirror_mode": {
    "name": "ipython",
    "version": 3
   },
   "file_extension": ".py",
   "mimetype": "text/x-python",
   "name": "python",
   "nbconvert_exporter": "python",
   "pygments_lexer": "ipython3",
   "version": "3.9.5"
  }
 },
 "nbformat": 4,
 "nbformat_minor": 1
}
