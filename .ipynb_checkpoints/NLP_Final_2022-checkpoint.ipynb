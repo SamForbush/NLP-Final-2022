{
 "cells": [
  {
   "cell_type": "markdown",
   "metadata": {
    "id": "ATjoe7YojjLl"
   },
   "source": [
    "This is an empty ipynb"
   ]
  },
  {
   "cell_type": "markdown",
   "metadata": {},
   "source": [
    "## Articles and papers to look at  \n",
    "https://aclanthology.org/W17-3502/  \n",
    "https://aclanthology.org/D14-1074.pdf  \n",
    "https://aclanthology.org/P17-4008.pdf  \n",
    "http://computationalcreativity.net/iccc2012/wp-content/uploads/2012/05/095-Colton.pdf  \n",
    "https://era.ed.ac.uk/bitstream/handle/1842/314/IP040022.pdf?sequence=1  \n",
    "https://aclanthology.org/2020.acl-main.223/  \n",
    "https://arxiv.org/pdf/1610.09889.pdf  \n",
    "https://www.researchgate.net/profile/Pablo-Gervas/publication/220831684_Poetry_generation_in_COLIBRI/links/61add74350e22929cd4e9ab6/Poetry-generation-in-COLIBRI.pdf  \n",
    "http://nil.fdi.ucm.es/sites/default/files/GervasAISB2013CRC.pdf  "
   ]
  },
  {
   "cell_type": "code",
   "execution_count": null,
   "metadata": {},
   "outputs": [],
   "source": []
  }
 ],
 "metadata": {
  "colab": {
   "provenance": []
  },
  "kernelspec": {
   "display_name": "Python 3 (ipykernel)",
   "language": "python",
   "name": "python3"
  },
  "language_info": {
   "codemirror_mode": {
    "name": "ipython",
    "version": 3
   },
   "file_extension": ".py",
   "mimetype": "text/x-python",
   "name": "python",
   "nbconvert_exporter": "python",
   "pygments_lexer": "ipython3",
   "version": "3.9.5"
  }
 },
 "nbformat": 4,
 "nbformat_minor": 1
}
